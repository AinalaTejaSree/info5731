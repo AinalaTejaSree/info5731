{
 "cells": [
  {
   "cell_type": "code",
   "execution_count": null,
   "metadata": {},
   "outputs": [
    {
     "name": "stdout",
     "output_type": "stream",
     "text": [
      "Enter a number : 12\n",
      "Enter a number : 1\n",
      "Enter a number : 2\n",
      "Enter a number : 9\n",
      "Enter a number : 3\n",
      "Enter a number : 8\n",
      "Enter a number : 4\n",
      "Enter a number : 7\n",
      "Enter a number : 12\n",
      "Enter a number : 98\n",
      "Enter a number : 13\n",
      "Enter a number : 74\n",
      "Enter a number : 38\n",
      "['12', '1', '2', '9', '3', '8', '4', '7', '12', '98', '13', '74', '38']\n",
      "Ascending order of given list : ['1', '12', '12', '13', '2', '3', '38', '4', '7', '74', '8', '9', '98']\n",
      "Descending order of given list :  ['98', '9', '8', '74', '7', '4', '38', '3', '2', '13', '12', '12', '1']\n"
     ]
    }
   ],
   "source": [
    "# Question 3\n",
    "#To sort a list of 12 numbers in ascending and descending order and to print the avg of the list\n",
    "def listAscendingOrder(listofnum):\n",
    "    listofnum.sort()\n",
    "    return listofnum\n",
    "def listDescendingOrder(listofnum):\n",
    "    listAscendingOrder(listofnum)\n",
    "    listofnum.sort(reverse=True)\n",
    "    return listofnum\n",
    "def listAverage(listofnum):\n",
    "    total = 0\n",
    "    variable =0\n",
    "    while variable <= 12:\n",
    "        total = int(listofnum[variable])+total\n",
    "    average = total/12\n",
    "    return average\n",
    "\n",
    "variable =  0\n",
    "listofnumtry =  [ ]eeeeeeeeeeeeeeee"
   ]
  },
  {
   "cell_type": "code",
   "execution_count": 9,
   "metadata": {},
   "outputs": [
    {
     "name": "stdout",
     "output_type": "stream",
     "text": [
      "The volume of sphere from radius 1 to 10 are :\n",
      "1       4.19\n",
      "2       33.51\n",
      "3       113.1\n",
      "4       268.08\n",
      "5       523.6\n",
      "6       904.78\n",
      "7       1436.76\n",
      "8       2144.66\n",
      "9       3053.63\n",
      "10       4188.79\n"
     ]
    }
   ],
   "source": [
    "#Question 4\n",
    "#to print the volume of sphere for radius in range 1 to 10\n",
    "import math\n",
    "def volumeOfSphere(radius):\n",
    "    volume = 4/3 * math.pi * float(pow(radius,3))\n",
    "    volume = round(volume,2)\n",
    "    return volume\n",
    "print(\"The volume of sphere from radius 1 to 10 are :\")\n",
    "variable = 1\n",
    "while variable <=10:\n",
    "    volume = volumeOfSphere(variable)\n",
    "    print(variable,\"     \",volume)\n",
    "    variable = variable + 1"
   ]
  },
  {
   "cell_type": "code",
   "execution_count": null,
   "metadata": {},
   "outputs": [],
   "source": [
    "sentence = input(\"enter a sentence : \")\n"
   ]
  },
  {
   "cell_type": "code",
   "execution_count": null,
   "metadata": {},
   "outputs": [],
   "source": [
    "#Question 5\n",
    "#To get two sentences as input from the user\n",
    "import re\n",
    "sentence1 = input(\"Enter one sentence :\")\n",
    "sentence2 = input(\"Enter second sentence :\")\n",
    "#to print sentence into a list using space as separator\n",
    "def sentenceintolist(sentence1,sentence2):\n",
    "    list1 = sentence1.split(' ')\n",
    "    list2 = sentence2.split(' ')\n",
    "    print(sentence1,\" into list \",list1)\n",
    "    print(sentence2,\" into list \",list2)\n",
    "#to pritn a list for the sentence using space as separator\n",
    "def sentenceIntoList(sentence):\n",
    "    listSent = sentence.split(' ')\n",
    "    return listSent\n",
    "#to compare two sentences and print the similar words in both\n",
    "def comparetwosentences(sentence1,sentence2):\n",
    "    list1 = sentenceIntoList(sentence1)\n",
    "    list2 = sentenceIntoList(sentence2)\n",
    "    for variable in list1:\n",
    "        if variable in list2:\n",
    "            print(variable)\n",
    "            \n",
    "#to remove special chars in a sentence\n",
    "def removeSpecialChars(sentence):\n",
    "    sentence = re.sub(r'[^\\w\\s]','',sentence)\n",
    "          \n",
    "sentenceintolist(sentence1,sentence2)\n",
    "comparetwosentences(sentence1,sentence2)\n",
    "sentence1 = removeSpecialChars(sentence1)\n",
    "print(sentence1)"
   ]
  },
  {
   "cell_type": "code",
   "execution_count": 12,
   "metadata": {},
   "outputs": [
    {
     "name": "stdout",
     "output_type": "stream",
     "text": [
      "a =  1\n",
      "e =  2\n",
      "i =  0\n",
      "o =  1\n",
      "u =  0\n"
     ]
    }
   ],
   "source": [
    "\n",
    "#to count vowelsin a sentence\n",
    "def countVowels(sentence):\n",
    "    a =0\n",
    "    e=0\n",
    "    i=0\n",
    "    o=0\n",
    "    u=0\n",
    "    for variable in sentence:\n",
    "        if variable =='a' or variable == 'A':\n",
    "            a = a + 1\n",
    "        elif variable == 'e' or variable == 'E':\n",
    "            e = e + 1\n",
    "        elif variable == 'i' or variable == 'I':\n",
    "            i = i + 1\n",
    "        elif variable == 'o' or variable == 'O':\n",
    "            o = o + 1\n",
    "        elif variable == 'u' or variable == 'U':\n",
    "            u = u + 1\n",
    "        \n",
    "    print(\"a = \",a)\n",
    "    print(\"e = \",e)\n",
    "    print(\"i = \",i)\n",
    "    print(\"o = \",o)\n",
    "    print(\"u = \",u)\n",
    "sentence = \"enter a word\"\n",
    "countVowels(sentence)\n"
   ]
  },
  {
   "cell_type": "code",
   "execution_count": 3,
   "metadata": {},
   "outputs": [
    {
     "data": {
      "text/plain": [
       "True"
      ]
     },
     "execution_count": 3,
     "metadata": {},
     "output_type": "execute_result"
    }
   ],
   "source": [
    "#1.1::\n",
    "\"A\".isupper() #this is a valid in built function which checks weather given string is in upper case or not\n"
   ]
  },
  {
   "cell_type": "code",
   "execution_count": 6,
   "metadata": {},
   "outputs": [
    {
     "name": "stdout",
     "output_type": "stream",
     "text": [
      "This is my Python class\n"
     ]
    }
   ],
   "source": [
    "#1.2::\n",
    "print (\"This is my Python class\")  #print is a built in function which displays the specified expressions/strings"
   ]
  },
  {
   "cell_type": "markdown",
   "metadata": {},
   "source": [
    "This is my Python class\n",
    "1.3:: x == 1 AND y > x AND is not a valid key word\n",
    "\n",
    "1.4:: return t[1:] return statement should always be inside a function definition\n",
    "\n",
    "1.5:: if \"fruit\" in \"apple\": if statement should have a condition and expression to evaluate the condition. Here we dot have any expression so, its an invalid statement.\n",
    "\n",
    "1.6:: with open(\"myfile.txt\", \"r\") as f: text = f.read().decode(\"UTF-8\") Open is a valid built-in keyword, which is used to perform operatins on files. r is a default parameter which reads the file specified\n",
    "\n",
    "1.7:: foo == None this is an invalid statement, because there is no variable foo defined to compare it with None\n",
    "\n",
    "1.8:: name = \"My name is Brenda\" name[0] = \"A\" Strings in python are immutable we cannot assign value or modify it once it is declared"
   ]
  },
  {
   "cell_type": "code",
   "execution_count": 8,
   "metadata": {},
   "outputs": [
    {
     "data": {
      "text/plain": [
       "27"
      ]
     },
     "execution_count": 8,
     "metadata": {},
     "output_type": "execute_result"
    }
   ],
   "source": [
    "#1.9::\n",
    "x = 3 \n",
    "x**3 #this is a valid statement.** is an exponential operator."
   ]
  },
  {
   "cell_type": "code",
   "execution_count": 11,
   "metadata": {},
   "outputs": [
    {
     "data": {
      "text/plain": [
       "6"
      ]
     },
     "execution_count": 11,
     "metadata": {},
     "output_type": "execute_result"
    }
   ],
   "source": [
    "20%7 #a valid statement % is modulus which gives remainder of division of left operand by right one"
   ]
  },
  {
   "cell_type": "markdown",
   "metadata": {},
   "source": [
    "Question 2. (15 points). Write a program to prompt for a score between 0 and 100.  If the score is out of range, print an error message. If the score is between 0 and 100, print a grade using the following table: \n",
    " 2 \n",
    "    Score   Grade >= 90 A \n",
    "                >= 80 B \n",
    "                >= 70  C\n",
    "                >= 60 D \n",
    "                < 60   F "
   ]
  },
  {
   "cell_type": "code",
   "execution_count": null,
   "metadata": {},
   "outputs": [],
   "source": [
    "def grade_score(score):\n",
    "    if score in range(0,101) :\n",
    "        if score >= 90:\n",
    "            print(\"your grade is A\")\n",
    "        elif score >= 80:\n",
    "            print(\"your grade is B\")\n",
    "        elif score >=70 :\n",
    "            print(\"your grade is C\")\n",
    "        elif score >= 60 :\n",
    "            print(\"Your grade is D\")\n",
    "        elif score < 60 :\n",
    "            print(\"Your grade is F \")\n",
    "    else:\n",
    "        print(\"Your grade is out of range \")\n",
    "score1 = int(input(\"Enter the score : \"))\n",
    "grade_score(score1)\n"
   ]
  },
  {
   "cell_type": "code",
   "execution_count": 3,
   "metadata": {},
   "outputs": [
    {
     "name": "stdout",
     "output_type": "stream",
     "text": [
      "Random numbers:  [3, 13, 29, 51, 57, 77, 79, 81, 83, 87, 91, 97]\n",
      "Random numbers in descending order:  [97, 91, 87, 83, 81, 79, 77, 57, 51, 29, 13, 3]\n",
      "Average of the group:  62.333333333333336\n"
     ]
    }
   ],
   "source": [
    "#question 3\n",
    "#to print a list of numbers in ascending order and descending order and print average\n",
    "import random #random function a built in python function to generate random numbers\n",
    "listOfNum=[] #array to store the generated random numbers\n",
    "for i in range (12):\n",
    "    listOfNum.append(random.randrange(1,100,2))\n",
    "listOfNum.sort() #sort() is a default function sorts the collection provided\n",
    "print (\"Random numbers: \",listOfNum)\n",
    "listOfNum.sort(reverse=True)  #python sort() can take parameter reverse when true, it sorts in decending order\n",
    "print (\"Random numbers in descending order: \",listOfNum)\n",
    "print(\"Average of the group: \",sum(listOfNum)/12)"
   ]
  },
  {
   "cell_type": "code",
   "execution_count": null,
   "metadata": {},
   "outputs": [],
   "source": []
  }
 ],
 "metadata": {
  "kernelspec": {
   "display_name": "Python 3",
   "language": "python",
   "name": "python3"
  },
  "language_info": {
   "codemirror_mode": {
    "name": "ipython",
    "version": 3
   },
   "file_extension": ".py",
   "mimetype": "text/x-python",
   "name": "python",
   "nbconvert_exporter": "python",
   "pygments_lexer": "ipython3",
   "version": "3.7.1"
  }
 },
 "nbformat": 4,
 "nbformat_minor": 2
}
