{
 "cells": [
  {
   "cell_type": "code",
   "execution_count": 1,
   "metadata": {},
   "outputs": [
    {
     "name": "stdout",
     "output_type": "stream",
     "text": [
      "h\n"
     ]
    }
   ],
   "source": [
    "#self study\n",
    "#8.1 string \n",
    "string1 = 'self study'\n",
    "letter = string1[1]\n",
    "print(letter)"
   ]
  },
  {
   "cell_type": "code",
   "execution_count": 99,
   "metadata": {},
   "outputs": [
    {
     "name": "stdout",
     "output_type": "stream",
     "text": [
      "l\n",
      "e\n"
     ]
    }
   ],
   "source": [
    "string1 = 'lesson1'\n",
    "variable = 0\n",
    "result = string1[variable]\n",
    "print(result)\n",
    "result =string1[variable+1]\n",
    "print(result)"
   ]
  },
  {
   "cell_type": "code",
   "execution_count": 97,
   "metadata": {},
   "outputs": [
    {
     "name": "stdout",
     "output_type": "stream",
     "text": [
      "i\n",
      "n\n",
      "c\n",
      "r\n",
      "e\n",
      "m\n",
      "e\n",
      "n\n",
      "t\n"
     ]
    }
   ],
   "source": [
    "string2 = 'increment'\n",
    "\n",
    "for variable in range(0,9):\n",
    "    print(string2[variable])"
   ]
  },
  {
   "cell_type": "code",
   "execution_count": 55,
   "metadata": {},
   "outputs": [
    {
     "ename": "TypeError",
     "evalue": "'int' object is not callable",
     "output_type": "error",
     "traceback": [
      "\u001b[1;31m---------------------------------------------------------------------------\u001b[0m",
      "\u001b[1;31mTypeError\u001b[0m                                 Traceback (most recent call last)",
      "\u001b[1;32m<ipython-input-55-407ad1a26440>\u001b[0m in \u001b[0;36m<module>\u001b[1;34m\u001b[0m\n\u001b[0;32m      2\u001b[0m \u001b[0mstring1\u001b[0m \u001b[1;33m=\u001b[0m \u001b[1;34m'reverse'\u001b[0m\u001b[1;33m\u001b[0m\u001b[1;33m\u001b[0m\u001b[0m\n\u001b[0;32m      3\u001b[0m \u001b[0mstring2\u001b[0m \u001b[1;33m=\u001b[0m \u001b[1;34m'a'\u001b[0m\u001b[1;33m\u001b[0m\u001b[1;33m\u001b[0m\u001b[0m\n\u001b[1;32m----> 4\u001b[1;33m \u001b[0mvariable\u001b[0m \u001b[1;33m=\u001b[0m \u001b[0mlen\u001b[0m\u001b[1;33m(\u001b[0m\u001b[0mstring2\u001b[0m\u001b[1;33m)\u001b[0m\u001b[1;33m\u001b[0m\u001b[1;33m\u001b[0m\u001b[0m\n\u001b[0m\u001b[0;32m      5\u001b[0m \u001b[1;32mif\u001b[0m \u001b[0mvariable\u001b[0m \u001b[1;33m>=\u001b[0m \u001b[1;36m0\u001b[0m\u001b[1;33m:\u001b[0m\u001b[1;33m\u001b[0m\u001b[1;33m\u001b[0m\u001b[0m\n\u001b[0;32m      6\u001b[0m     \u001b[0mstring2\u001b[0m \u001b[1;33m=\u001b[0m \u001b[0mstring2\u001b[0m \u001b[1;33m+\u001b[0m \u001b[0mstring1\u001b[0m\u001b[1;33m[\u001b[0m\u001b[0mvariable\u001b[0m\u001b[1;33m]\u001b[0m\u001b[1;33m\u001b[0m\u001b[1;33m\u001b[0m\u001b[0m\n",
      "\u001b[1;31mTypeError\u001b[0m: 'int' object is not callable"
     ]
    }
   ],
   "source": [
    "##to print name in reverse using loop\n",
    "string1 = 'reverse'\n",
    "string2 = 'a'\n",
    "i = len(string2)\n",
    "if i >= 0:\n",
    "    string2 = string2 + string1[variable]\n",
    "    i=i-1\n",
    "\n",
    "print(string2)"
   ]
  },
  {
   "cell_type": "code",
   "execution_count": 110,
   "metadata": {},
   "outputs": [
    {
     "ename": "TypeError",
     "evalue": "'int' object is not callable",
     "output_type": "error",
     "traceback": [
      "\u001b[1;31m---------------------------------------------------------------------------\u001b[0m",
      "\u001b[1;31mTypeError\u001b[0m                                 Traceback (most recent call last)",
      "\u001b[1;32m<ipython-input-110-daac0d899f3f>\u001b[0m in \u001b[0;36m<module>\u001b[1;34m\u001b[0m\n\u001b[0;32m      1\u001b[0m \u001b[0mstring1\u001b[0m \u001b[1;33m=\u001b[0m \u001b[1;34m'chaki is my boy friend'\u001b[0m\u001b[1;33m\u001b[0m\u001b[1;33m\u001b[0m\u001b[0m\n\u001b[1;32m----> 2\u001b[1;33m \u001b[0mvariable2\u001b[0m \u001b[1;33m=\u001b[0m \u001b[0mlen\u001b[0m\u001b[1;33m(\u001b[0m\u001b[0mstring1\u001b[0m\u001b[1;33m)\u001b[0m\u001b[1;33m\u001b[0m\u001b[1;33m\u001b[0m\u001b[0m\n\u001b[0m\u001b[0;32m      3\u001b[0m \u001b[0mprint\u001b[0m\u001b[1;33m(\u001b[0m\u001b[0mvariable2\u001b[0m\u001b[1;33m)\u001b[0m\u001b[1;33m\u001b[0m\u001b[1;33m\u001b[0m\u001b[0m\n",
      "\u001b[1;31mTypeError\u001b[0m: 'int' object is not callable"
     ]
    }
   ],
   "source": [
    "string1 = 'chaki is my boy friend'\n",
    "variable2 = len(string1)\n",
    "print(variable2)\n"
   ]
  },
  {
   "cell_type": "code",
   "execution_count": 111,
   "metadata": {},
   "outputs": [
    {
     "ename": "SyntaxError",
     "evalue": "invalid syntax (<ipython-input-111-3e546305b684>, line 1)",
     "output_type": "error",
     "traceback": [
      "\u001b[1;36m  File \u001b[1;32m\"<ipython-input-111-3e546305b684>\"\u001b[1;36m, line \u001b[1;32m1\u001b[0m\n\u001b[1;33m    if len(str)\u001b[0m\n\u001b[1;37m               ^\u001b[0m\n\u001b[1;31mSyntaxError\u001b[0m\u001b[1;31m:\u001b[0m invalid syntax\n"
     ]
    }
   ],
   "source": [
    "if len(str)"
   ]
  },
  {
   "cell_type": "code",
   "execution_count": 107,
   "metadata": {},
   "outputs": [
    {
     "ename": "SyntaxError",
     "evalue": "invalid syntax (<ipython-input-107-698ce022cdf8>, line 4)",
     "output_type": "error",
     "traceback": [
      "\u001b[1;36m  File \u001b[1;32m\"<ipython-input-107-698ce022cdf8>\"\u001b[1;36m, line \u001b[1;32m4\u001b[0m\n\u001b[1;33m    for x >= 0:\u001b[0m\n\u001b[1;37m           ^\u001b[0m\n\u001b[1;31mSyntaxError\u001b[0m\u001b[1;31m:\u001b[0m invalid syntax\n"
     ]
    }
   ],
   "source": [
    "question = 'chakki'\n",
    "result = ''\n",
    "x = len(question)\n",
    "for x >= 0:\n",
    "    result = result + question[x]\n",
    "    x = x-1\n",
    "    \n",
    "print(result)\n"
   ]
  },
  {
   "cell_type": "code",
   "execution_count": 112,
   "metadata": {},
   "outputs": [
    {
     "ename": "TypeError",
     "evalue": "'int' object is not callable",
     "output_type": "error",
     "traceback": [
      "\u001b[1;31m---------------------------------------------------------------------------\u001b[0m",
      "\u001b[1;31mTypeError\u001b[0m                                 Traceback (most recent call last)",
      "\u001b[1;32m<ipython-input-112-7b4fa4ff247d>\u001b[0m in \u001b[0;36m<module>\u001b[1;34m\u001b[0m\n\u001b[0;32m      1\u001b[0m \u001b[0morder\u001b[0m \u001b[1;33m=\u001b[0m \u001b[1;34m'reverse'\u001b[0m\u001b[1;33m\u001b[0m\u001b[1;33m\u001b[0m\u001b[0m\n\u001b[0;32m      2\u001b[0m \u001b[0mreverseorder\u001b[0m \u001b[1;33m=\u001b[0m \u001b[1;34m''\u001b[0m\u001b[1;33m\u001b[0m\u001b[1;33m\u001b[0m\u001b[0m\n\u001b[1;32m----> 3\u001b[1;33m \u001b[0my\u001b[0m \u001b[1;33m=\u001b[0m \u001b[0mlen\u001b[0m\u001b[1;33m(\u001b[0m\u001b[0morder\u001b[0m\u001b[1;33m)\u001b[0m\u001b[1;33m\u001b[0m\u001b[1;33m\u001b[0m\u001b[0m\n\u001b[0m",
      "\u001b[1;31mTypeError\u001b[0m: 'int' object is not callable"
     ]
    }
   ],
   "source": [
    "order = 'reverse'\n",
    "reverseorder = ''\n",
    "y = len(order)"
   ]
  },
  {
   "cell_type": "code",
   "execution_count": 113,
   "metadata": {},
   "outputs": [
    {
     "ename": "TypeError",
     "evalue": "'int' object is not callable",
     "output_type": "error",
     "traceback": [
      "\u001b[1;31m---------------------------------------------------------------------------\u001b[0m",
      "\u001b[1;31mTypeError\u001b[0m                                 Traceback (most recent call last)",
      "\u001b[1;32m<ipython-input-113-daac0d899f3f>\u001b[0m in \u001b[0;36m<module>\u001b[1;34m\u001b[0m\n\u001b[0;32m      1\u001b[0m \u001b[0mstring1\u001b[0m \u001b[1;33m=\u001b[0m \u001b[1;34m'chaki is my boy friend'\u001b[0m\u001b[1;33m\u001b[0m\u001b[1;33m\u001b[0m\u001b[0m\n\u001b[1;32m----> 2\u001b[1;33m \u001b[0mvariable2\u001b[0m \u001b[1;33m=\u001b[0m \u001b[0mlen\u001b[0m\u001b[1;33m(\u001b[0m\u001b[0mstring1\u001b[0m\u001b[1;33m)\u001b[0m\u001b[1;33m\u001b[0m\u001b[1;33m\u001b[0m\u001b[0m\n\u001b[0m\u001b[0;32m      3\u001b[0m \u001b[0mprint\u001b[0m\u001b[1;33m(\u001b[0m\u001b[0mvariable2\u001b[0m\u001b[1;33m)\u001b[0m\u001b[1;33m\u001b[0m\u001b[1;33m\u001b[0m\u001b[0m\n",
      "\u001b[1;31mTypeError\u001b[0m: 'int' object is not callable"
     ]
    }
   ],
   "source": [
    "string1 = 'chaki is my boy friend'\n",
    "variable2 = len(string1)\n",
    "print(variable2)\n"
   ]
  },
  {
   "cell_type": "code",
   "execution_count": 5,
   "metadata": {},
   "outputs": [
    {
     "ename": "SyntaxError",
     "evalue": "unexpected EOF while parsing (<ipython-input-5-4615f182b3b0>, line 6)",
     "output_type": "error",
     "traceback": [
      "\u001b[1;36m  File \u001b[1;32m\"<ipython-input-5-4615f182b3b0>\"\u001b[1;36m, line \u001b[1;32m6\u001b[0m\n\u001b[1;33m    \u001b[0m\n\u001b[1;37m    ^\u001b[0m\n\u001b[1;31mSyntaxError\u001b[0m\u001b[1;31m:\u001b[0m unexpected EOF while parsing\n"
     ]
    }
   ],
   "source": [
    "demo = \"Demonstration\"\n",
    "rev = \"\"\n",
    "print(len(demo))\n",
    "var = len(demo)\n",
    "while var > 0:\n",
    "    "
   ]
  },
  {
   "cell_type": "code",
   "execution_count": 12,
   "metadata": {},
   "outputs": [
    {
     "name": "stdout",
     "output_type": "stream",
     "text": [
      "a\n",
      "p\n",
      "p\n",
      "l\n",
      "e\n"
     ]
    }
   ],
   "source": [
    "i = 'apple'\n",
    "for x in i:\n",
    "    print(x)"
   ]
  },
  {
   "cell_type": "code",
   "execution_count": null,
   "metadata": {},
   "outputs": [],
   "source": [
    "i = \"apple\"\n",
    "x = len(i)\n",
    "y = 0\n",
    "while y < x:\n",
    "    print(i[y])\n",
    "    y = y +1"
   ]
  },
  {
   "cell_type": "code",
   "execution_count": 5,
   "metadata": {},
   "outputs": [
    {
     "name": "stdout",
     "output_type": "stream",
     "text": [
      "e\n",
      "l\n",
      "p\n",
      "p\n",
      "a\n",
      "elppa\n",
      "not\n"
     ]
    }
   ],
   "source": [
    "i = \"apple\"\n",
    "x = len(i)-1\n",
    "str = \"\"\n",
    "y = 0\n",
    "while x >= y:\n",
    "    print(i[x])\n",
    "    str = str + i[x] \n",
    "    x = x -1\n",
    "print(str)\n",
    "if str == i:\n",
    "    print(\"palindrome\")\n",
    "else:\n",
    "    print(\"not\")"
   ]
  },
  {
   "cell_type": "code",
   "execution_count": 3,
   "metadata": {},
   "outputs": [
    {
     "name": "stdout",
     "output_type": "stream",
     "text": [
      "0level\n",
      "1level\n",
      "2level\n",
      "3level\n",
      "4level\n"
     ]
    }
   ],
   "source": [
    "# To see the working of traversal loop\n",
    "word1 = '01234'\n",
    "word2 = 'level'\n",
    "for letter in word1:\n",
    "    print(letter + word2)"
   ]
  },
  {
   "cell_type": "code",
   "execution_count": 4,
   "metadata": {},
   "outputs": [
    {
     "name": "stdout",
     "output_type": "stream",
     "text": [
      "Enter a word : TejaSree\n",
      "Enter a letter to find whether it is in the given word or not : s\n"
     ]
    },
    {
     "data": {
      "text/plain": [
       "-1"
      ]
     },
     "execution_count": 4,
     "metadata": {},
     "output_type": "execute_result"
    }
   ],
   "source": [
    "# 8.6 searching for a letter in a word using index\n",
    "def searchletter(word,letter):\n",
    "    index = 0\n",
    "    while index < len(word):\n",
    "        if word[index] == letter:\n",
    "            return index\n",
    "        index = index + 1\n",
    "    return -1\n",
    "wordtry = input(\"Enter a word : \")\n",
    "lettertry = input(\"Enter a letter to find whether it is in the given word or not : \")\n",
    "searchletter(wordtry,lettertry)\n"
   ]
  },
  {
   "cell_type": "code",
   "execution_count": 2,
   "metadata": {},
   "outputs": [
    {
     "name": "stdout",
     "output_type": "stream",
     "text": [
      "Enter a sentence : chakki is my boyfriend\n",
      "Enter a word to find whether it is in the given sentence or not : my\n"
     ]
    },
    {
     "data": {
      "text/plain": [
       "10"
      ]
     },
     "execution_count": 2,
     "metadata": {},
     "output_type": "execute_result"
    }
   ],
   "source": [
    "# searching for a word in a sentence \n",
    "def searchword(sentence,word):\n",
    "    index = 0\n",
    "    windex =0\n",
    "    while index < len(sentence):\n",
    "        if sentence[index] == word[windex]:\n",
    "            return index\n",
    "        index = index + 1\n",
    "    return -1\n",
    "sentencetry = input(\"Enter a sentence : \")\n",
    "wordtry = input(\"Enter a word to find whether it is in the given sentence or not : \")\n",
    "searchword(sentencetry,wordtry)\n"
   ]
  },
  {
   "cell_type": "code",
   "execution_count": 6,
   "metadata": {},
   "outputs": [
    {
     "name": "stdout",
     "output_type": "stream",
     "text": [
      "Enter a sentence :chakki is my muchkin\n",
      "Enter a word to find : muchkin\n"
     ]
    },
    {
     "data": {
      "text/plain": [
       "10"
      ]
     },
     "execution_count": 6,
     "metadata": {},
     "output_type": "execute_result"
    }
   ],
   "source": [
    "sentence1 = input(\"Enter a sentence :\")\n",
    "word1 = input(\"Enter a word to find : \")\n",
    "searchword(sentence1,word1)"
   ]
  },
  {
   "cell_type": "code",
   "execution_count": 1,
   "metadata": {},
   "outputs": [
    {
     "ename": "SyntaxError",
     "evalue": "invalid syntax (<ipython-input-1-934f0d4a3a0b>, line 10)",
     "output_type": "error",
     "traceback": [
      "\u001b[1;36m  File \u001b[1;32m\"<ipython-input-1-934f0d4a3a0b>\"\u001b[1;36m, line \u001b[1;32m10\u001b[0m\n\u001b[1;33m    if sentence[index] = word[windex]:\u001b[0m\n\u001b[1;37m                       ^\u001b[0m\n\u001b[1;31mSyntaxError\u001b[0m\u001b[1;31m:\u001b[0m invalid syntax\n"
     ]
    }
   ],
   "source": [
    "def searchword(sentence,word):\n",
    "    index = 0\n",
    "    windex =0\n",
    "    while index < len(sentence):\n",
    "        if sentence[index] == word[windex]:\n",
    "            index = a\n",
    "            index = index + 1\n",
    "            windex = windex + 1\n",
    "            while windex < len(word):\n",
    "                if sentence[index] = word[windex]:\n",
    "                    \n",
    "            \n",
    "            return index\n",
    "        index = index + 1\n",
    "    return -1"
   ]
  },
  {
   "cell_type": "code",
   "execution_count": 4,
   "metadata": {},
   "outputs": [
    {
     "name": "stdout",
     "output_type": "stream",
     "text": [
      "Enter a string : \n",
      "0\n"
     ]
    }
   ],
   "source": [
    "string3 = input(\"Enter a string : \")\n",
    "print(len(string3))\n"
   ]
  },
  {
   "cell_type": "code",
   "execution_count": null,
   "metadata": {},
   "outputs": [],
   "source": [
    "string4 = input(\"Enter a String : \")\n",
    "string0 = input(\"Enter a letter u want to search and find the index in the given input :\")\n",
    "index = 0\n",
    "while index < len(string4):\n",
    "    if string4[index] == string0:\n",
    "        print(index)\n",
    "    index = index + 1\n",
    "sen = string4[[index]:len(string4)]"
   ]
  },
  {
   "cell_type": "code",
   "execution_count": null,
   "metadata": {},
   "outputs": [],
   "source": [
    "str = input(\"Enter a string : \")\n",
    "word = input(\"Enter a word you wanted to search in the give string : \")\n",
    "index = 0\n",
    "windex = 0\n",
    "while index < len(str):\n",
    "    if str[index] == word[windex]:\n",
    "        index = a\n",
    "        a = a + 1\n",
    "        while windex < len(word):\n",
    "            if str[a] == word[windex]:\n",
    "                print(windex)\n",
    "                a = a + 1\n",
    "                windex = windex + 1\n",
    "            print(\"out of loop if : index, windex,a  are \",index,windex,a)\n"
   ]
  },
  {
   "cell_type": "code",
   "execution_count": 2,
   "metadata": {},
   "outputs": [],
   "source": [
    "def searchlettertry(sentence,word):\n",
    "    index = 0\n",
    "    windex =0\n",
    "    while index < len(sentence):\n",
    "        if sentence[index] == word[windex]:\n",
    "            return index\n",
    "        index = index + 1\n",
    "    return -1\n"
   ]
  },
  {
   "cell_type": "code",
   "execution_count": 5,
   "metadata": {},
   "outputs": [],
   "source": [
    "def searchwordtry(sentence,word):\n",
    "    index = 0\n",
    "    while index < len(word):\n",
    "        if sentence[index] == word[index]:\n",
    "            index = index + 1\n",
    "        else:\n",
    "            return -1\n",
    "    return index"
   ]
  },
  {
   "cell_type": "code",
   "execution_count": 8,
   "metadata": {},
   "outputs": [
    {
     "name": "stdout",
     "output_type": "stream",
     "text": [
      "Enter a string :this is morning\n",
      "Enter a word to seach in given string : morning\n",
      "Word found in the sentence at index  8\n",
      "m\n"
     ]
    }
   ],
   "source": [
    "sentencetry = input(\"Enter a string :\")\n",
    "wordtry = input(\"Enter a word to seach in given string : \")\n",
    "indextry = searchlettertry(sentencetry,wordtry)\n",
    "slicetry = sentencetry[indextry:len(sentencetry)]\n",
    "result = searchwordtry(slicetry,wordtry)\n",
    "if result == len(wordtry):\n",
    "    print(\"Word found in the sentence at index \",indextry)\n",
    "print(sentencetry[indextry])\n"
   ]
  },
  {
   "cell_type": "code",
   "execution_count": 9,
   "metadata": {},
   "outputs": [
    {
     "name": "stdout",
     "output_type": "stream",
     "text": [
      "MINING\n",
      "2\n",
      "mining\n",
      "4\n",
      "-1\n",
      "2\n"
     ]
    }
   ],
   "source": [
    "#8.8 String methods\n",
    "string1 = 'Mining'\n",
    "print(string1.upper())\n",
    "print(string1.find('n'))\n",
    "print(string1.lower())\n",
    "print(string1.find('n',3))\n",
    "print(string1.find('n',3,4))\n",
    "print(string1.find('nin'))\n"
   ]
  },
  {
   "cell_type": "code",
   "execution_count": 10,
   "metadata": {},
   "outputs": [
    {
     "ename": "SyntaxError",
     "evalue": "unexpected EOF while parsing (<ipython-input-10-973994add571>, line 3)",
     "output_type": "error",
     "traceback": [
      "\u001b[1;36m  File \u001b[1;32m\"<ipython-input-10-973994add571>\"\u001b[1;36m, line \u001b[1;32m3\u001b[0m\n\u001b[1;33m    \u001b[0m\n\u001b[1;37m    ^\u001b[0m\n\u001b[1;31mSyntaxError\u001b[0m\u001b[1;31m:\u001b[0m unexpected EOF while parsing\n"
     ]
    }
   ],
   "source": [
    "string2 = input(\"Enter a sentence : \")\n",
    "def stringMethods(string2):\n",
    "    "
   ]
  },
  {
   "cell_type": "code",
   "execution_count": 8,
   "metadata": {},
   "outputs": [
    {
     "name": "stdout",
     "output_type": "stream",
     "text": [
      "Enter a word : python\n"
     ]
    },
    {
     "data": {
      "text/plain": [
       "True"
      ]
     },
     "execution_count": 8,
     "metadata": {},
     "output_type": "execute_result"
    }
   ],
   "source": [
    "#8.9 in operator\n",
    "sentenc = input(\"Enter a word : \")\n",
    "word = 'p'\n",
    "#word in sentenc"
   ]
  },
  {
   "cell_type": "code",
   "execution_count": 8,
   "metadata": {},
   "outputs": [
    {
     "name": "stdout",
     "output_type": "stream",
     "text": [
      "Enter a word : chakki\n",
      "Enter an other word : chakri\n",
      "c\n",
      "h\n",
      "a\n",
      "k\n",
      "k\n",
      "i\n"
     ]
    }
   ],
   "source": [
    "#to search for the same letters in two input words\n",
    "wordtry1 = input(\"Enter a word : \")\n",
    "wordtry2 = input(\"Enter an other word : \")\n",
    "for letter in wordtry1:\n",
    "    if letter in wordtry2:\n",
    "        print(letter)  "
   ]
  },
  {
   "cell_type": "code",
   "execution_count": 14,
   "metadata": {},
   "outputs": [
    {
     "name": "stdout",
     "output_type": "stream",
     "text": [
      "Enter the a sentence : chakki is chakki\n",
      "Enter an other sentence : chakki is not\n",
      "['chakki', 'is', 'chakki']\n",
      "['chakki', 'is', 'not']\n",
      "chakki\n",
      "is\n",
      "chakki\n"
     ]
    }
   ],
   "source": [
    "#using in operator searching for the same words in two lists\n",
    "sentry1 = input(\"Enter the a sentence : \").split()\n",
    "sentry2 = input(\"Enter an other sentence : \").split()\n",
    "print(sentry1)\n",
    "print(sentry2)\n",
    "for word1 in sentry1:\n",
    "    for word2 in sentry2:\n",
    "        if word1 == word2:\n",
    "            print(word1)"
   ]
  },
  {
   "cell_type": "code",
   "execution_count": 2,
   "metadata": {},
   "outputs": [
    {
     "name": "stdout",
     "output_type": "stream",
     "text": [
      "Enter a string : chakki\n",
      "Enter a letter to find in the string : i\n"
     ]
    },
    {
     "data": {
      "text/plain": [
       "True"
      ]
     },
     "execution_count": 2,
     "metadata": {},
     "output_type": "execute_result"
    }
   ],
   "source": [
    "#9.3 search for string\n",
    "def searchstring(stringtry,lettertry):\n",
    "    for variable in stringtry:\n",
    "        if lettertry == variable:\n",
    "            return True\n",
    "stringtry = input(\"Enter a string : \")\n",
    "lettertry = input(\"Enter a letter to find in the string : \")\n",
    "searchstring(stringtry,lettertry)\n"
   ]
  },
  {
   "cell_type": "code",
   "execution_count": null,
   "metadata": {},
   "outputs": [],
   "source": [
    "def searchword(sentencetry,wordtry):\n",
    "    for word1 in sentencetry:\n",
    "        for word2 in wordtry :\n",
    "            if word1 == word2:\n",
    "                return True\n",
    "            else:\n",
    "                return False\n",
    "sentencetry = input(\"Enter a sentence : \").split()\n",
    "wordtry = input(\"Enter a word : \").split()\n",
    "print(sentencetry)\n",
    "print(wordtry)\n",
    "\n",
    "searchword(sentencetry,wordtry)"
   ]
  },
  {
   "cell_type": "code",
   "execution_count": null,
   "metadata": {},
   "outputs": [],
   "source": [
    "#9.4 looping with indices\n",
    "def comparingword(word):\n",
    "    before = word[0]\n",
    "    for variable in word:\n",
    "        if variable < before:\n",
    "            return False\n",
    "        before = variable\n",
    "    return True\n",
    "        \n",
    "wordtry = input(\"Enter a  word : \")\n",
    "comparingword(wordtry)\n"
   ]
  },
  {
   "cell_type": "code",
   "execution_count": null,
   "metadata": {},
   "outputs": [],
   "source": [
    "#10.1 list\n",
    "listtry = input(\"Enter a different words or numbers and seprate them with space : \").split( )\n",
    "print(\"Your sequence of words are :\",listtry)\n"
   ]
  },
  {
   "cell_type": "code",
   "execution_count": null,
   "metadata": {},
   "outputs": [],
   "source": [
    "#10.2 list mutable\n",
    "list1 = input(\"Enter a list differentiating withspace : \").split()\n",
    "variable = 0\n",
    "while variable < len(list1):\n",
    "    print(variable,list1[variable])\n",
    "    variable = variable+1\n",
    "    "
   ]
  },
  {
   "cell_type": "code",
   "execution_count": null,
   "metadata": {},
   "outputs": [],
   "source": [
    "#10.3 LIST OPERATIONS\n",
    "list1 = input(\"Enter a list:\").split()\n",
    "list2 = input(\"Enter a list: \").split()\n",
    "print(list1 + list2)\n",
    "print(list1 * 0)"
   ]
  },
  {
   "cell_type": "code",
   "execution_count": null,
   "metadata": {},
   "outputs": [],
   "source": [
    "#10.4 slices\n",
    "listtry1 =[]\n",
    "i=0\n",
    "while i<3:\n",
    "    variable = input(\"Enter a number :\")\n",
    "    listtry1.append(variable)\n",
    "    i = i+1\n",
    "print(listtry1)"
   ]
  },
  {
   "cell_type": "code",
   "execution_count": null,
   "metadata": {},
   "outputs": [],
   "source": [
    "listtry2 =[]\n",
    "var = 0\n",
    "while var<2:\n",
    "    varin = input(\"enter a number : \")\n",
    "    listtry2.append(varin)\n",
    "    var = var + 1\n",
    "print(listtry2)\n"
   ]
  },
  {
   "cell_type": "code",
   "execution_count": null,
   "metadata": {},
   "outputs": [],
   "source": [
    "listtry1 =[]\n",
    "i=0\n",
    "while i<3:\n",
    "    variable = input(\"Enter a number :\")\n",
    "    listtry1.append(variable)\n",
    "    i = i+1\n",
    "print(listtry1)\n",
    "listtry2 =[]\n",
    "var = 0\n",
    "while var<2:\n",
    "    varin = input(\"enter a number : \")\n",
    "    listtry2.append(varin)\n",
    "    var = var + 1\n",
    "print(listtry2)\n",
    "listtry1 = listtry1 + listtry2\n",
    "print(listtry1)\n",
    "print(\"sorted list of listtry1 is : \")\n",
    "listtry1.sort()\n",
    "print(listtry1)\n"
   ]
  },
  {
   "cell_type": "code",
   "execution_count": null,
   "metadata": {},
   "outputs": [],
   "source": [
    "listtry1 = input(\"enter numbers : \").split( )\n",
    "sum(listtry1)\n"
   ]
  },
  {
   "cell_type": "code",
   "execution_count": null,
   "metadata": {},
   "outputs": [],
   "source": [
    "#deleting elements in list\n",
    "listtry2 = []\n",
    "i=0\n",
    "while i<3:\n",
    "    variable = input(\"Enter a number :\")\n",
    "    listtry2.append(variable)\n",
    "    i = i+1\n",
    "print(listtry2)\n",
    "del listtry2[2]\n",
    "print(listtry2)\n"
   ]
  },
  {
   "cell_type": "code",
   "execution_count": 3,
   "metadata": {},
   "outputs": [
    {
     "name": "stdout",
     "output_type": "stream",
     "text": [
      "{'1': 'one', '2': 'two', '3': 'three'}\n"
     ]
    }
   ],
   "source": [
    "#11 dictionaries\n",
    "ditry = {'1':'one','2':'two','3':'three'}\n",
    "print(ditry)"
   ]
  },
  {
   "cell_type": "code",
   "execution_count": 5,
   "metadata": {},
   "outputs": [
    {
     "name": "stdout",
     "output_type": "stream",
     "text": [
      "('a', 'b', 'c')\n",
      "<class 'tuple'>\n"
     ]
    }
   ],
   "source": [
    "#12tuple\n",
    "tupletry = ('a','b','c')\n",
    "print(tupletry)\n",
    "print(type(tupletry))\n"
   ]
  },
  {
   "cell_type": "code",
   "execution_count": 7,
   "metadata": {},
   "outputs": [
    {
     "name": "stdout",
     "output_type": "stream",
     "text": [
      "('t', 'u', 'p', 'l', 'e')\n"
     ]
    }
   ],
   "source": [
    "tup = tuple('tuple')\n",
    "print(tup)"
   ]
  },
  {
   "cell_type": "code",
   "execution_count": null,
   "metadata": {},
   "outputs": [],
   "source": []
  }
 ],
 "metadata": {
  "kernelspec": {
   "display_name": "Python 3",
   "language": "python",
   "name": "python3"
  },
  "language_info": {
   "codemirror_mode": {
    "name": "ipython",
    "version": 3
   },
   "file_extension": ".py",
   "mimetype": "text/x-python",
   "name": "python",
   "nbconvert_exporter": "python",
   "pygments_lexer": "ipython3",
   "version": "3.7.1"
  }
 },
 "nbformat": 4,
 "nbformat_minor": 2
}
