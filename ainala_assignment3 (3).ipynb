{
  "nbformat": 4,
  "nbformat_minor": 0,
  "metadata": {
    "colab": {
      "name": "ainala_assignment3.ipynb",
      "version": "0.3.2",
      "provenance": [],
      "collapsed_sections": []
    },
    "kernelspec": {
      "name": "python3",
      "display_name": "Python 3"
    }
  },
  "cells": [
    {
      "metadata": {
        "id": "9GLEkynozH-d",
        "colab_type": "text"
      },
      "cell_type": "markdown",
      "source": [
        "# Assignment 3\n",
        "\n",
        "In this assignment, you will try to gather information from open data via API and visualize them.\n",
        "\n",
        "We will use the API from wikipedia as an example.\n",
        "\n",
        "Please go to [this web page](https://wikitech.wikimedia.org/wiki/Analytics/AQS/Pageviews), to learn how to get Pageviews of a certain wikipedia page.\n",
        "\n",
        "![](https://github.com/wshuyi/github_pub_img/raw/master/assets/2019-02-13-10-57-35-202134.png)\n",
        "\n",
        "As you can see here, to get a pageview count timeseries of en.wikipedia's article \"[Albert Enstein](https://en.wikipedia.org/wiki/Albert_Einstein)\" for the month of October 2015, you can use the following url with a \"GET\" method.\n",
        "\n",
        "[https://wikimedia.org/api/rest\\_v1/metrics/pageviews/per-article/en.wikipedia/all-access/all-agents/Albert\\_Einstein/daily/2015100100/2015103100](https://wikimedia.org/api/rest_v1/metrics/pageviews/per-article/en.wikipedia/all-access/all-agents/Albert_Einstein/daily/2015100100/2015103100)\n",
        "\n",
        "Your task, is to get Pageviews count timeseries of en.wikipedia's article \"[University of North Texas](https://en.wikipedia.org/wiki/University_of_North_Texas)\" for the month of January 2019.\n",
        "\n",
        "\n",
        "![](https://github.com/wshuyi/github_pub_img/raw/master/assets/2019-02-13-10-57-35-210502.png)\n",
        "\n",
        "Please answer the following questions by putting your code in the corresponding chunks. You can create new code or text chunks if necessary.\n",
        "\n"
      ]
    },
    {
      "metadata": {
        "id": "ySIA8u72zPIc",
        "colab_type": "text"
      },
      "cell_type": "markdown",
      "source": [
        "**Question 1. (20 points)** Make the corresponding url to gather the required data, and save it into a variable called 'url'.\n",
        "\n"
      ]
    },
    {
      "metadata": {
        "id": "NDBkVHDlzRtp",
        "colab_type": "code",
        "colab": {}
      },
      "cell_type": "code",
      "source": [
        "url =\"https://wikimedia.org/api/rest_v1/metrics/pageviews/per-article/en.wikipedia/all-access/all-agents/University_of_North_Texas/daily/2019010100/2010013100\""
      ],
      "execution_count": 0,
      "outputs": []
    },
    {
      "metadata": {
        "id": "kZY_EUIglF8z",
        "colab_type": "text"
      },
      "cell_type": "markdown",
      "source": [
        ""
      ]
    },
    {
      "metadata": {
        "id": "9dQcHDnvzR_m",
        "colab_type": "text"
      },
      "cell_type": "markdown",
      "source": [
        "**Question 2. (20 points)** Call the API by using the url you created in Question 1, and print out the JSON data. (If you are not familiar with JSON format, please follow [this link](https://en.wikipedia.org/wiki/JSON). Also, you can visit [this link](https://www.w3schools.com/python/python_json.asp) to know how to operate on JSON data with Python. )\n",
        "\n",
        "![](https://github.com/wshuyi/github_pub_img/raw/master/assets/2019-02-13-10-57-35-196474.png)\n",
        "\n"
      ]
    },
    {
      "metadata": {
        "id": "UwObkLeozTxU",
        "colab_type": "code",
        "colab": {
          "base_uri": "https://localhost:8080/",
          "height": 4828
        },
        "outputId": "2b919c85-bf82-48f8-d089-02d107fb3079"
      },
      "cell_type": "code",
      "source": [
        "import urllib,json\n",
        "with  urllib.request.urlopen(\"https://wikimedia.org/api/rest_v1/metrics/pageviews/per-article/en.wikipedia/all-access/all-agents/University_of_North_Texas/daily/2019010100/2019013100\") as url:\n",
        "  data = json.loads(url.read())\n",
        "print(json.dumps(data, indent=4, sort_keys=True))\n",
        "\n"
      ],
      "execution_count": 47,
      "outputs": [
        {
          "output_type": "stream",
          "text": [
            "{\n",
            "    \"items\": [\n",
            "        {\n",
            "            \"access\": \"all-access\",\n",
            "            \"agent\": \"all-agents\",\n",
            "            \"article\": \"University_of_North_Texas\",\n",
            "            \"granularity\": \"daily\",\n",
            "            \"project\": \"en.wikipedia\",\n",
            "            \"timestamp\": \"2019010100\",\n",
            "            \"views\": 732\n",
            "        },\n",
            "        {\n",
            "            \"access\": \"all-access\",\n",
            "            \"agent\": \"all-agents\",\n",
            "            \"article\": \"University_of_North_Texas\",\n",
            "            \"granularity\": \"daily\",\n",
            "            \"project\": \"en.wikipedia\",\n",
            "            \"timestamp\": \"2019010200\",\n",
            "            \"views\": 834\n",
            "        },\n",
            "        {\n",
            "            \"access\": \"all-access\",\n",
            "            \"agent\": \"all-agents\",\n",
            "            \"article\": \"University_of_North_Texas\",\n",
            "            \"granularity\": \"daily\",\n",
            "            \"project\": \"en.wikipedia\",\n",
            "            \"timestamp\": \"2019010300\",\n",
            "            \"views\": 821\n",
            "        },\n",
            "        {\n",
            "            \"access\": \"all-access\",\n",
            "            \"agent\": \"all-agents\",\n",
            "            \"article\": \"University_of_North_Texas\",\n",
            "            \"granularity\": \"daily\",\n",
            "            \"project\": \"en.wikipedia\",\n",
            "            \"timestamp\": \"2019010400\",\n",
            "            \"views\": 719\n",
            "        },\n",
            "        {\n",
            "            \"access\": \"all-access\",\n",
            "            \"agent\": \"all-agents\",\n",
            "            \"article\": \"University_of_North_Texas\",\n",
            "            \"granularity\": \"daily\",\n",
            "            \"project\": \"en.wikipedia\",\n",
            "            \"timestamp\": \"2019010500\",\n",
            "            \"views\": 672\n",
            "        },\n",
            "        {\n",
            "            \"access\": \"all-access\",\n",
            "            \"agent\": \"all-agents\",\n",
            "            \"article\": \"University_of_North_Texas\",\n",
            "            \"granularity\": \"daily\",\n",
            "            \"project\": \"en.wikipedia\",\n",
            "            \"timestamp\": \"2019010600\",\n",
            "            \"views\": 676\n",
            "        },\n",
            "        {\n",
            "            \"access\": \"all-access\",\n",
            "            \"agent\": \"all-agents\",\n",
            "            \"article\": \"University_of_North_Texas\",\n",
            "            \"granularity\": \"daily\",\n",
            "            \"project\": \"en.wikipedia\",\n",
            "            \"timestamp\": \"2019010700\",\n",
            "            \"views\": 632\n",
            "        },\n",
            "        {\n",
            "            \"access\": \"all-access\",\n",
            "            \"agent\": \"all-agents\",\n",
            "            \"article\": \"University_of_North_Texas\",\n",
            "            \"granularity\": \"daily\",\n",
            "            \"project\": \"en.wikipedia\",\n",
            "            \"timestamp\": \"2019010800\",\n",
            "            \"views\": 788\n",
            "        },\n",
            "        {\n",
            "            \"access\": \"all-access\",\n",
            "            \"agent\": \"all-agents\",\n",
            "            \"article\": \"University_of_North_Texas\",\n",
            "            \"granularity\": \"daily\",\n",
            "            \"project\": \"en.wikipedia\",\n",
            "            \"timestamp\": \"2019010900\",\n",
            "            \"views\": 712\n",
            "        },\n",
            "        {\n",
            "            \"access\": \"all-access\",\n",
            "            \"agent\": \"all-agents\",\n",
            "            \"article\": \"University_of_North_Texas\",\n",
            "            \"granularity\": \"daily\",\n",
            "            \"project\": \"en.wikipedia\",\n",
            "            \"timestamp\": \"2019011000\",\n",
            "            \"views\": 673\n",
            "        },\n",
            "        {\n",
            "            \"access\": \"all-access\",\n",
            "            \"agent\": \"all-agents\",\n",
            "            \"article\": \"University_of_North_Texas\",\n",
            "            \"granularity\": \"daily\",\n",
            "            \"project\": \"en.wikipedia\",\n",
            "            \"timestamp\": \"2019011100\",\n",
            "            \"views\": 784\n",
            "        },\n",
            "        {\n",
            "            \"access\": \"all-access\",\n",
            "            \"agent\": \"all-agents\",\n",
            "            \"article\": \"University_of_North_Texas\",\n",
            "            \"granularity\": \"daily\",\n",
            "            \"project\": \"en.wikipedia\",\n",
            "            \"timestamp\": \"2019011200\",\n",
            "            \"views\": 663\n",
            "        },\n",
            "        {\n",
            "            \"access\": \"all-access\",\n",
            "            \"agent\": \"all-agents\",\n",
            "            \"article\": \"University_of_North_Texas\",\n",
            "            \"granularity\": \"daily\",\n",
            "            \"project\": \"en.wikipedia\",\n",
            "            \"timestamp\": \"2019011300\",\n",
            "            \"views\": 685\n",
            "        },\n",
            "        {\n",
            "            \"access\": \"all-access\",\n",
            "            \"agent\": \"all-agents\",\n",
            "            \"article\": \"University_of_North_Texas\",\n",
            "            \"granularity\": \"daily\",\n",
            "            \"project\": \"en.wikipedia\",\n",
            "            \"timestamp\": \"2019011400\",\n",
            "            \"views\": 752\n",
            "        },\n",
            "        {\n",
            "            \"access\": \"all-access\",\n",
            "            \"agent\": \"all-agents\",\n",
            "            \"article\": \"University_of_North_Texas\",\n",
            "            \"granularity\": \"daily\",\n",
            "            \"project\": \"en.wikipedia\",\n",
            "            \"timestamp\": \"2019011500\",\n",
            "            \"views\": 731\n",
            "        },\n",
            "        {\n",
            "            \"access\": \"all-access\",\n",
            "            \"agent\": \"all-agents\",\n",
            "            \"article\": \"University_of_North_Texas\",\n",
            "            \"granularity\": \"daily\",\n",
            "            \"project\": \"en.wikipedia\",\n",
            "            \"timestamp\": \"2019011600\",\n",
            "            \"views\": 779\n",
            "        },\n",
            "        {\n",
            "            \"access\": \"all-access\",\n",
            "            \"agent\": \"all-agents\",\n",
            "            \"article\": \"University_of_North_Texas\",\n",
            "            \"granularity\": \"daily\",\n",
            "            \"project\": \"en.wikipedia\",\n",
            "            \"timestamp\": \"2019011700\",\n",
            "            \"views\": 779\n",
            "        },\n",
            "        {\n",
            "            \"access\": \"all-access\",\n",
            "            \"agent\": \"all-agents\",\n",
            "            \"article\": \"University_of_North_Texas\",\n",
            "            \"granularity\": \"daily\",\n",
            "            \"project\": \"en.wikipedia\",\n",
            "            \"timestamp\": \"2019011800\",\n",
            "            \"views\": 616\n",
            "        },\n",
            "        {\n",
            "            \"access\": \"all-access\",\n",
            "            \"agent\": \"all-agents\",\n",
            "            \"article\": \"University_of_North_Texas\",\n",
            "            \"granularity\": \"daily\",\n",
            "            \"project\": \"en.wikipedia\",\n",
            "            \"timestamp\": \"2019011900\",\n",
            "            \"views\": 502\n",
            "        },\n",
            "        {\n",
            "            \"access\": \"all-access\",\n",
            "            \"agent\": \"all-agents\",\n",
            "            \"article\": \"University_of_North_Texas\",\n",
            "            \"granularity\": \"daily\",\n",
            "            \"project\": \"en.wikipedia\",\n",
            "            \"timestamp\": \"2019012000\",\n",
            "            \"views\": 487\n",
            "        },\n",
            "        {\n",
            "            \"access\": \"all-access\",\n",
            "            \"agent\": \"all-agents\",\n",
            "            \"article\": \"University_of_North_Texas\",\n",
            "            \"granularity\": \"daily\",\n",
            "            \"project\": \"en.wikipedia\",\n",
            "            \"timestamp\": \"2019012100\",\n",
            "            \"views\": 505\n",
            "        },\n",
            "        {\n",
            "            \"access\": \"all-access\",\n",
            "            \"agent\": \"all-agents\",\n",
            "            \"article\": \"University_of_North_Texas\",\n",
            "            \"granularity\": \"daily\",\n",
            "            \"project\": \"en.wikipedia\",\n",
            "            \"timestamp\": \"2019012200\",\n",
            "            \"views\": 567\n",
            "        },\n",
            "        {\n",
            "            \"access\": \"all-access\",\n",
            "            \"agent\": \"all-agents\",\n",
            "            \"article\": \"University_of_North_Texas\",\n",
            "            \"granularity\": \"daily\",\n",
            "            \"project\": \"en.wikipedia\",\n",
            "            \"timestamp\": \"2019012300\",\n",
            "            \"views\": 537\n",
            "        },\n",
            "        {\n",
            "            \"access\": \"all-access\",\n",
            "            \"agent\": \"all-agents\",\n",
            "            \"article\": \"University_of_North_Texas\",\n",
            "            \"granularity\": \"daily\",\n",
            "            \"project\": \"en.wikipedia\",\n",
            "            \"timestamp\": \"2019012400\",\n",
            "            \"views\": 504\n",
            "        },\n",
            "        {\n",
            "            \"access\": \"all-access\",\n",
            "            \"agent\": \"all-agents\",\n",
            "            \"article\": \"University_of_North_Texas\",\n",
            "            \"granularity\": \"daily\",\n",
            "            \"project\": \"en.wikipedia\",\n",
            "            \"timestamp\": \"2019012500\",\n",
            "            \"views\": 574\n",
            "        },\n",
            "        {\n",
            "            \"access\": \"all-access\",\n",
            "            \"agent\": \"all-agents\",\n",
            "            \"article\": \"University_of_North_Texas\",\n",
            "            \"granularity\": \"daily\",\n",
            "            \"project\": \"en.wikipedia\",\n",
            "            \"timestamp\": \"2019012600\",\n",
            "            \"views\": 430\n",
            "        },\n",
            "        {\n",
            "            \"access\": \"all-access\",\n",
            "            \"agent\": \"all-agents\",\n",
            "            \"article\": \"University_of_North_Texas\",\n",
            "            \"granularity\": \"daily\",\n",
            "            \"project\": \"en.wikipedia\",\n",
            "            \"timestamp\": \"2019012700\",\n",
            "            \"views\": 412\n",
            "        },\n",
            "        {\n",
            "            \"access\": \"all-access\",\n",
            "            \"agent\": \"all-agents\",\n",
            "            \"article\": \"University_of_North_Texas\",\n",
            "            \"granularity\": \"daily\",\n",
            "            \"project\": \"en.wikipedia\",\n",
            "            \"timestamp\": \"2019012800\",\n",
            "            \"views\": 486\n",
            "        },\n",
            "        {\n",
            "            \"access\": \"all-access\",\n",
            "            \"agent\": \"all-agents\",\n",
            "            \"article\": \"University_of_North_Texas\",\n",
            "            \"granularity\": \"daily\",\n",
            "            \"project\": \"en.wikipedia\",\n",
            "            \"timestamp\": \"2019012900\",\n",
            "            \"views\": 605\n",
            "        },\n",
            "        {\n",
            "            \"access\": \"all-access\",\n",
            "            \"agent\": \"all-agents\",\n",
            "            \"article\": \"University_of_North_Texas\",\n",
            "            \"granularity\": \"daily\",\n",
            "            \"project\": \"en.wikipedia\",\n",
            "            \"timestamp\": \"2019013000\",\n",
            "            \"views\": 515\n",
            "        },\n",
            "        {\n",
            "            \"access\": \"all-access\",\n",
            "            \"agent\": \"all-agents\",\n",
            "            \"article\": \"University_of_North_Texas\",\n",
            "            \"granularity\": \"daily\",\n",
            "            \"project\": \"en.wikipedia\",\n",
            "            \"timestamp\": \"2019013100\",\n",
            "            \"views\": 489\n",
            "        }\n",
            "    ]\n",
            "}\n"
          ],
          "name": "stdout"
        }
      ]
    },
    {
      "metadata": {
        "id": "TNrhAwQLzVII",
        "colab_type": "text"
      },
      "cell_type": "markdown",
      "source": [
        "**Question 3. (20 points)** Load the JSON data into Pandas Dataframe, and show the first five rows.\n",
        "\n",
        "![](https://github.com/wshuyi/github_pub_img/raw/master/assets/2019-02-13-10-57-35-214261.png)\n",
        "\n"
      ]
    },
    {
      "metadata": {
        "id": "ndFJH614zFog",
        "colab_type": "code",
        "colab": {
          "base_uri": "https://localhost:8080/",
          "height": 204
        },
        "outputId": "e1cacf84-06ce-45b7-8ea6-ad3ce6199dd3"
      },
      "cell_type": "code",
      "source": [
        "import pandas as pd\n",
        "resultantdata = pd.DataFrame.from_dict(data.get('items'))\n",
        "resultantdata.head()"
      ],
      "execution_count": 48,
      "outputs": [
        {
          "output_type": "execute_result",
          "data": {
            "text/html": [
              "<div>\n",
              "<style scoped>\n",
              "    .dataframe tbody tr th:only-of-type {\n",
              "        vertical-align: middle;\n",
              "    }\n",
              "\n",
              "    .dataframe tbody tr th {\n",
              "        vertical-align: top;\n",
              "    }\n",
              "\n",
              "    .dataframe thead th {\n",
              "        text-align: right;\n",
              "    }\n",
              "</style>\n",
              "<table border=\"1\" class=\"dataframe\">\n",
              "  <thead>\n",
              "    <tr style=\"text-align: right;\">\n",
              "      <th></th>\n",
              "      <th>access</th>\n",
              "      <th>agent</th>\n",
              "      <th>article</th>\n",
              "      <th>granularity</th>\n",
              "      <th>project</th>\n",
              "      <th>timestamp</th>\n",
              "      <th>views</th>\n",
              "    </tr>\n",
              "  </thead>\n",
              "  <tbody>\n",
              "    <tr>\n",
              "      <th>0</th>\n",
              "      <td>all-access</td>\n",
              "      <td>all-agents</td>\n",
              "      <td>University_of_North_Texas</td>\n",
              "      <td>daily</td>\n",
              "      <td>en.wikipedia</td>\n",
              "      <td>2019010100</td>\n",
              "      <td>732</td>\n",
              "    </tr>\n",
              "    <tr>\n",
              "      <th>1</th>\n",
              "      <td>all-access</td>\n",
              "      <td>all-agents</td>\n",
              "      <td>University_of_North_Texas</td>\n",
              "      <td>daily</td>\n",
              "      <td>en.wikipedia</td>\n",
              "      <td>2019010200</td>\n",
              "      <td>834</td>\n",
              "    </tr>\n",
              "    <tr>\n",
              "      <th>2</th>\n",
              "      <td>all-access</td>\n",
              "      <td>all-agents</td>\n",
              "      <td>University_of_North_Texas</td>\n",
              "      <td>daily</td>\n",
              "      <td>en.wikipedia</td>\n",
              "      <td>2019010300</td>\n",
              "      <td>821</td>\n",
              "    </tr>\n",
              "    <tr>\n",
              "      <th>3</th>\n",
              "      <td>all-access</td>\n",
              "      <td>all-agents</td>\n",
              "      <td>University_of_North_Texas</td>\n",
              "      <td>daily</td>\n",
              "      <td>en.wikipedia</td>\n",
              "      <td>2019010400</td>\n",
              "      <td>719</td>\n",
              "    </tr>\n",
              "    <tr>\n",
              "      <th>4</th>\n",
              "      <td>all-access</td>\n",
              "      <td>all-agents</td>\n",
              "      <td>University_of_North_Texas</td>\n",
              "      <td>daily</td>\n",
              "      <td>en.wikipedia</td>\n",
              "      <td>2019010500</td>\n",
              "      <td>672</td>\n",
              "    </tr>\n",
              "  </tbody>\n",
              "</table>\n",
              "</div>"
            ],
            "text/plain": [
              "       access       agent                    article granularity  \\\n",
              "0  all-access  all-agents  University_of_North_Texas       daily   \n",
              "1  all-access  all-agents  University_of_North_Texas       daily   \n",
              "2  all-access  all-agents  University_of_North_Texas       daily   \n",
              "3  all-access  all-agents  University_of_North_Texas       daily   \n",
              "4  all-access  all-agents  University_of_North_Texas       daily   \n",
              "\n",
              "        project   timestamp  views  \n",
              "0  en.wikipedia  2019010100    732  \n",
              "1  en.wikipedia  2019010200    834  \n",
              "2  en.wikipedia  2019010300    821  \n",
              "3  en.wikipedia  2019010400    719  \n",
              "4  en.wikipedia  2019010500    672  "
            ]
          },
          "metadata": {
            "tags": []
          },
          "execution_count": 48
        }
      ]
    },
    {
      "metadata": {
        "id": "qT1mjIAFzWs5",
        "colab_type": "text"
      },
      "cell_type": "markdown",
      "source": [
        "**Question 4. (20 points)** Figure out the max and min views and corresponding date.\n",
        "\n",
        "![](https://github.com/wshuyi/github_pub_img/raw/master/assets/2019-02-13-10-57-35-195410.png)\n",
        "\n",
        "![](https://github.com/wshuyi/github_pub_img/raw/master/assets/2019-02-13-10-57-35-197160.png)\n",
        "\n"
      ]
    },
    {
      "metadata": {
        "id": "92z6TdkxzX3p",
        "colab_type": "code",
        "colab": {
          "base_uri": "https://localhost:8080/",
          "height": 111
        },
        "outputId": "97696fa5-ac1e-4d11-b79f-de28abbe37cb"
      },
      "cell_type": "code",
      "source": [
        "df =(resultantdata[resultantdata.views == resultantdata.views.min()][['timestamp','views']])\n",
        "df =df.transpose()\n",
        "df\n",
        "#print(resultantdata[resultantdata.views == resultantdata.views.min()][['timestamp','views']])\n"
      ],
      "execution_count": 49,
      "outputs": [
        {
          "output_type": "execute_result",
          "data": {
            "text/html": [
              "<div>\n",
              "<style scoped>\n",
              "    .dataframe tbody tr th:only-of-type {\n",
              "        vertical-align: middle;\n",
              "    }\n",
              "\n",
              "    .dataframe tbody tr th {\n",
              "        vertical-align: top;\n",
              "    }\n",
              "\n",
              "    .dataframe thead th {\n",
              "        text-align: right;\n",
              "    }\n",
              "</style>\n",
              "<table border=\"1\" class=\"dataframe\">\n",
              "  <thead>\n",
              "    <tr style=\"text-align: right;\">\n",
              "      <th></th>\n",
              "      <th>26</th>\n",
              "    </tr>\n",
              "  </thead>\n",
              "  <tbody>\n",
              "    <tr>\n",
              "      <th>timestamp</th>\n",
              "      <td>2019012700</td>\n",
              "    </tr>\n",
              "    <tr>\n",
              "      <th>views</th>\n",
              "      <td>412</td>\n",
              "    </tr>\n",
              "  </tbody>\n",
              "</table>\n",
              "</div>"
            ],
            "text/plain": [
              "                   26\n",
              "timestamp  2019012700\n",
              "views             412"
            ]
          },
          "metadata": {
            "tags": []
          },
          "execution_count": 49
        }
      ]
    },
    {
      "metadata": {
        "id": "HSogN75wFD-v",
        "colab_type": "code",
        "colab": {
          "base_uri": "https://localhost:8080/",
          "height": 111
        },
        "outputId": "776cbe25-a129-42a5-d7c2-3e59cc79e01b"
      },
      "cell_type": "code",
      "source": [
        "\n",
        "df =(resultantdata[resultantdata.views == resultantdata.views.max()][['timestamp','views']])\n",
        "df =df.transpose()\n",
        "df"
      ],
      "execution_count": 50,
      "outputs": [
        {
          "output_type": "execute_result",
          "data": {
            "text/html": [
              "<div>\n",
              "<style scoped>\n",
              "    .dataframe tbody tr th:only-of-type {\n",
              "        vertical-align: middle;\n",
              "    }\n",
              "\n",
              "    .dataframe tbody tr th {\n",
              "        vertical-align: top;\n",
              "    }\n",
              "\n",
              "    .dataframe thead th {\n",
              "        text-align: right;\n",
              "    }\n",
              "</style>\n",
              "<table border=\"1\" class=\"dataframe\">\n",
              "  <thead>\n",
              "    <tr style=\"text-align: right;\">\n",
              "      <th></th>\n",
              "      <th>1</th>\n",
              "    </tr>\n",
              "  </thead>\n",
              "  <tbody>\n",
              "    <tr>\n",
              "      <th>timestamp</th>\n",
              "      <td>2019010200</td>\n",
              "    </tr>\n",
              "    <tr>\n",
              "      <th>views</th>\n",
              "      <td>834</td>\n",
              "    </tr>\n",
              "  </tbody>\n",
              "</table>\n",
              "</div>"
            ],
            "text/plain": [
              "                    1\n",
              "timestamp  2019010200\n",
              "views             834"
            ]
          },
          "metadata": {
            "tags": []
          },
          "execution_count": 50
        }
      ]
    },
    {
      "metadata": {
        "id": "CLGeneMrFRrj",
        "colab_type": "code",
        "colab": {
          "base_uri": "https://localhost:8080/",
          "height": 85
        },
        "outputId": "20cfdf07-db9b-4aa2-b75a-b000e020b29b"
      },
      "cell_type": "code",
      "source": [
        "print(resultantdata[resultantdata.views == resultantdata.views.max()][['timestamp','views']])\n",
        "print(resultantdata[resultantdata.views == resultantdata.views.min()][['timestamp','views']])\n"
      ],
      "execution_count": 51,
      "outputs": [
        {
          "output_type": "stream",
          "text": [
            "    timestamp  views\n",
            "1  2019010200    834\n",
            "     timestamp  views\n",
            "26  2019012700    412\n"
          ],
          "name": "stdout"
        }
      ]
    },
    {
      "metadata": {
        "id": "iXb9v8QRVvwl",
        "colab_type": "code",
        "colab": {
          "base_uri": "https://localhost:8080/",
          "height": 80
        },
        "outputId": "34b6f0dc-4c0a-42f1-d5ef-190277a49617"
      },
      "cell_type": "code",
      "source": [
        "resultantdata.loc[resultantdata.views == resultantdata.views.min()][['timestamp','views']]\n"
      ],
      "execution_count": 41,
      "outputs": [
        {
          "output_type": "execute_result",
          "data": {
            "text/html": [
              "<div>\n",
              "<style scoped>\n",
              "    .dataframe tbody tr th:only-of-type {\n",
              "        vertical-align: middle;\n",
              "    }\n",
              "\n",
              "    .dataframe tbody tr th {\n",
              "        vertical-align: top;\n",
              "    }\n",
              "\n",
              "    .dataframe thead th {\n",
              "        text-align: right;\n",
              "    }\n",
              "</style>\n",
              "<table border=\"1\" class=\"dataframe\">\n",
              "  <thead>\n",
              "    <tr style=\"text-align: right;\">\n",
              "      <th></th>\n",
              "      <th>timestamp</th>\n",
              "      <th>views</th>\n",
              "    </tr>\n",
              "  </thead>\n",
              "  <tbody>\n",
              "    <tr>\n",
              "      <th>26</th>\n",
              "      <td>2019012700</td>\n",
              "      <td>412</td>\n",
              "    </tr>\n",
              "  </tbody>\n",
              "</table>\n",
              "</div>"
            ],
            "text/plain": [
              "     timestamp  views\n",
              "26  2019012700    412"
            ]
          },
          "metadata": {
            "tags": []
          },
          "execution_count": 41
        }
      ]
    },
    {
      "metadata": {
        "id": "_dVlW41YV00w",
        "colab_type": "code",
        "colab": {
          "base_uri": "https://localhost:8080/",
          "height": 80
        },
        "outputId": "beefcb3b-cd85-43e9-c068-fd5041c9331a"
      },
      "cell_type": "code",
      "source": [
        "resultantdata.loc[resultantdata.views == resultantdata.views.max()][['timestamp','views']]\n"
      ],
      "execution_count": 45,
      "outputs": [
        {
          "output_type": "execute_result",
          "data": {
            "text/html": [
              "<div>\n",
              "<style scoped>\n",
              "    .dataframe tbody tr th:only-of-type {\n",
              "        vertical-align: middle;\n",
              "    }\n",
              "\n",
              "    .dataframe tbody tr th {\n",
              "        vertical-align: top;\n",
              "    }\n",
              "\n",
              "    .dataframe thead th {\n",
              "        text-align: right;\n",
              "    }\n",
              "</style>\n",
              "<table border=\"1\" class=\"dataframe\">\n",
              "  <thead>\n",
              "    <tr style=\"text-align: right;\">\n",
              "      <th></th>\n",
              "      <th>timestamp</th>\n",
              "      <th>views</th>\n",
              "    </tr>\n",
              "  </thead>\n",
              "  <tbody>\n",
              "    <tr>\n",
              "      <th>1</th>\n",
              "      <td>2019010200</td>\n",
              "      <td>834</td>\n",
              "    </tr>\n",
              "  </tbody>\n",
              "</table>\n",
              "</div>"
            ],
            "text/plain": [
              "    timestamp  views\n",
              "1  2019010200    834"
            ]
          },
          "metadata": {
            "tags": []
          },
          "execution_count": 45
        }
      ]
    },
    {
      "metadata": {
        "id": "mziF75UWV3-P",
        "colab_type": "code",
        "colab": {}
      },
      "cell_type": "code",
      "source": [
        ""
      ],
      "execution_count": 0,
      "outputs": []
    },
    {
      "metadata": {
        "id": "5YNmlvXkzYXC",
        "colab_type": "text"
      },
      "cell_type": "markdown",
      "source": [
        "**Question 5. (20 points)** Plot line chart of Pageviews for the whole month.\n",
        "\n",
        "![](https://github.com/wshuyi/github_pub_img/raw/master/assets/2019-02-13-10-57-35-197005.png)\n"
      ]
    },
    {
      "metadata": {
        "id": "w_SMnicQzY1Q",
        "colab_type": "code",
        "colab": {
          "base_uri": "https://localhost:8080/",
          "height": 296
        },
        "outputId": "3b8fdbe1-0e54-4e53-e894-33720cf70e57"
      },
      "cell_type": "code",
      "source": [
        "df =resultantdata.plot.line(y='views',rot=0)\n",
        "df.set(xlabel='date')\n"
      ],
      "execution_count": 58,
      "outputs": [
        {
          "output_type": "execute_result",
          "data": {
            "text/plain": [
              "[Text(0.5, 0, 'date')]"
            ]
          },
          "metadata": {
            "tags": []
          },
          "execution_count": 58
        },
        {
          "output_type": "display_data",
          "data": {
            "image/png": "[encoded data removed]",
            "text/plain": [
              "<Figure size 432x288 with 1 Axes>"
            ]
          },
          "metadata": {
            "tags": []
          }
        }
      ]
    },
    {
      "metadata": {
        "id": "iWMoHn1OZ97q",
        "colab_type": "text"
      },
      "cell_type": "markdown",
      "source": [
        ""
      ]
    },
    {
      "metadata": {
        "id": "fGQXZ18NZ_j8",
        "colab_type": "code",
        "colab": {
          "base_uri": "https://localhost:8080/",
          "height": 311
        },
        "outputId": "184904ed-8b69-471e-db52-32be66417ddd"
      },
      "cell_type": "code",
      "source": [
        "%matplotlib inline\n",
        "import matplotlib.pyplot as plt\n",
        "resultantdata.views.plot(y='views',rot=0)\n",
        "plt.ylabel('views')\n",
        "plt.title('feb', loc='right', y=-0.2)\n",
        "plt.title('Jan 2019', loc='left', y=-0.2)\n",
        "plt.title('date', y=-0.3)\n",
        "plt.xticks([7,14,21,28])\n",
        "plt.show()"
      ],
      "execution_count": 57,
      "outputs": [
        {
          "output_type": "display_data",
          "data": {
            "image/png": "[encoded data removed]",
            "text/plain": [
              "<Figure size 432x288 with 1 Axes>"
            ]
          },
          "metadata": {
            "tags": []
          }
        }
      ]
    },
    {
      "metadata": {
        "id": "u_-PFwPOUqmn",
        "colab_type": "code",
        "colab": {
          "base_uri": "https://localhost:8080/",
          "height": 80
        },
        "outputId": "45bd6a77-d846-413b-e29d-7ce81d3ddde3"
      },
      "cell_type": "code",
      "source": [
        "resultantdata.loc[resultantdata.views == resultantdata.views.min()][['timestamp','views']]\n",
        "\n"
      ],
      "execution_count": 43,
      "outputs": [
        {
          "output_type": "execute_result",
          "data": {
            "text/html": [
              "<div>\n",
              "<style scoped>\n",
              "    .dataframe tbody tr th:only-of-type {\n",
              "        vertical-align: middle;\n",
              "    }\n",
              "\n",
              "    .dataframe tbody tr th {\n",
              "        vertical-align: top;\n",
              "    }\n",
              "\n",
              "    .dataframe thead th {\n",
              "        text-align: right;\n",
              "    }\n",
              "</style>\n",
              "<table border=\"1\" class=\"dataframe\">\n",
              "  <thead>\n",
              "    <tr style=\"text-align: right;\">\n",
              "      <th></th>\n",
              "      <th>timestamp</th>\n",
              "      <th>views</th>\n",
              "    </tr>\n",
              "  </thead>\n",
              "  <tbody>\n",
              "    <tr>\n",
              "      <th>26</th>\n",
              "      <td>2019012700</td>\n",
              "      <td>412</td>\n",
              "    </tr>\n",
              "  </tbody>\n",
              "</table>\n",
              "</div>"
            ],
            "text/plain": [
              "     timestamp  views\n",
              "26  2019012700    412"
            ]
          },
          "metadata": {
            "tags": []
          },
          "execution_count": 43
        }
      ]
    },
    {
      "metadata": {
        "id": "4tleNitmVgUD",
        "colab_type": "code",
        "colab": {
          "base_uri": "https://localhost:8080/",
          "height": 111
        },
        "outputId": "4170d7cc-7c66-46e4-daf6-c24241fc883c"
      },
      "cell_type": "code",
      "source": [
        "df =resultantdata.loc[resultantdata.views == resultantdata.views.min()][['timestamp','views']]\n",
        "df =df.transpose()\n",
        "df"
      ],
      "execution_count": 40,
      "outputs": [
        {
          "output_type": "execute_result",
          "data": {
            "text/html": [
              "<div>\n",
              "<style scoped>\n",
              "    .dataframe tbody tr th:only-of-type {\n",
              "        vertical-align: middle;\n",
              "    }\n",
              "\n",
              "    .dataframe tbody tr th {\n",
              "        vertical-align: top;\n",
              "    }\n",
              "\n",
              "    .dataframe thead th {\n",
              "        text-align: right;\n",
              "    }\n",
              "</style>\n",
              "<table border=\"1\" class=\"dataframe\">\n",
              "  <thead>\n",
              "    <tr style=\"text-align: right;\">\n",
              "      <th></th>\n",
              "      <th>26</th>\n",
              "    </tr>\n",
              "  </thead>\n",
              "  <tbody>\n",
              "    <tr>\n",
              "      <th>timestamp</th>\n",
              "      <td>2019012700</td>\n",
              "    </tr>\n",
              "    <tr>\n",
              "      <th>views</th>\n",
              "      <td>412</td>\n",
              "    </tr>\n",
              "  </tbody>\n",
              "</table>\n",
              "</div>"
            ],
            "text/plain": [
              "                   26\n",
              "timestamp  2019012700\n",
              "views             412"
            ]
          },
          "metadata": {
            "tags": []
          },
          "execution_count": 40
        }
      ]
    }
  ]
}